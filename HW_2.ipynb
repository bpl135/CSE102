{
  "nbformat": 4,
  "nbformat_minor": 0,
  "metadata": {
    "colab": {
      "provenance": [],
      "authorship_tag": "ABX9TyPewNKio9njEsayiKAxyKvY",
      "include_colab_link": true
    },
    "kernelspec": {
      "name": "python3",
      "display_name": "Python 3"
    },
    "language_info": {
      "name": "python"
    }
  },
  "cells": [
    {
      "cell_type": "markdown",
      "metadata": {
        "id": "view-in-github",
        "colab_type": "text"
      },
      "source": [
        "<a href=\"https://colab.research.google.com/github/bpl135/CSE102/blob/nextjs_blog/HW_2.ipynb\" target=\"_parent\"><img src=\"https://colab.research.google.com/assets/colab-badge.svg\" alt=\"Open In Colab\"/></a>"
      ]
    },
    {
      "cell_type": "code",
      "source": [
        "graph = []"
      ],
      "metadata": {
        "id": "vKN9LabquXz5"
      },
      "execution_count": 153,
      "outputs": []
    },
    {
      "cell_type": "code",
      "source": [
        "import hashlib\n",
        "import time\n",
        "\n",
        "collision = 0\n",
        "start_time = time.time()\n",
        "\n",
        "for n in range(5):\n",
        "  if collision == 2:\n",
        "    print(\"Execution time: %s seconds\"%(time.time()-start_time))\n",
        "    break;\n",
        "  string = f'homework{n}'.encode()\n",
        "  sha = hashlib.sha256(string).hexdigest()\n",
        "  bin_sha = \"{0:256b}\".format(int(sha, 16))[2:]\n",
        "  if bin_sha.startswith('0'):\n",
        "    print(f'\"homework{n}\" Hash: {bin_sha}')\n",
        "    collision += 1\n",
        "\n",
        "graph.append(\"%s\"%(time.time()-start_time))"
      ],
      "metadata": {
        "id": "qr64OlFPjzNM",
        "colab": {
          "base_uri": "https://localhost:8080/"
        },
        "outputId": "1c5d197d-8ea5-422a-e78e-8b6e8f0bc76e"
      },
      "execution_count": 154,
      "outputs": [
        {
          "output_type": "stream",
          "name": "stdout",
          "text": [
            "\"homework0\" Hash: 01010101001110100100010011110001000010010100001101010011010100011110101001010001010100100000101100110101001000100110111101110100000100110011010011010000010010000001000010001111000111000111010010100011110111101101011110010001111101110011001101101000101100\n",
            "\"homework3\" Hash: 00111000001011111111000101010111100111100000001111111001000001011001111010011011001100001010000001001000111111000110010100001100100111111111100110000100101010010001011011010100110111010100100011011000001100111111000101101000000100100010111011011110100001\n",
            "Execution time: 0.0024056434631347656 seconds\n"
          ]
        }
      ]
    },
    {
      "cell_type": "code",
      "source": [
        "import hashlib\n",
        "import time\n",
        "\n",
        "collision = 0\n",
        "start_time = time.time()\n",
        "\n",
        "for n in range(10):\n",
        "  if collision == 2:\n",
        "    print(\"Execution time: %s seconds\"%(time.time()-start_time))\n",
        "    break;\n",
        "  string = f'homework{n}'.encode()\n",
        "  sha = hashlib.sha256(string).hexdigest()\n",
        "  bin_sha = \"{0:256b}\".format(int(sha, 16))[2:]\n",
        "  if bin_sha.startswith('00'):\n",
        "    print(f'\"homework{n}\" Hash: {bin_sha}')\n",
        "    collision += 1\n",
        "\n",
        "graph.append(\"%s\"%(time.time()-start_time))"
      ],
      "metadata": {
        "colab": {
          "base_uri": "https://localhost:8080/"
        },
        "id": "iT5Pw_ptnuIA",
        "outputId": "54117097-a093-4760-cf01-2b537a5980fa"
      },
      "execution_count": 155,
      "outputs": [
        {
          "output_type": "stream",
          "name": "stdout",
          "text": [
            "\"homework3\" Hash: 00111000001011111111000101010111100111100000001111111001000001011001111010011011001100001010000001001000111111000110010100001100100111111111100110000100101010010001011011010100110111010100100011011000001100111111000101101000000100100010111011011110100001\n",
            "\"homework8\" Hash: 00010000111110100010010011101110100111110110110010011101111101001100101101001111000100010010100011111111100110001011010101011011110111110010001100000101110110000000000100111011001001011100001110011111111010100110010100100110010111100111000001100000011110\n",
            "Execution time: 0.003970623016357422 seconds\n"
          ]
        }
      ]
    },
    {
      "cell_type": "code",
      "source": [
        "import hashlib\n",
        "import time\n",
        "\n",
        "collision = 0\n",
        "start_time = time.time()\n",
        "\n",
        "for n in range(30):\n",
        "  if collision == 2:\n",
        "    print(\"Execution time: %s seconds\"%(time.time()-start_time))\n",
        "    break;\n",
        "  string = f'homework{n}'.encode()\n",
        "  sha = hashlib.sha256(string).hexdigest()\n",
        "  bin_sha = \"{0:256b}\".format(int(sha, 16))[2:]\n",
        "  if bin_sha.startswith('000'):\n",
        "    print(f'\"homework{n}\" Hash: {bin_sha}')\n",
        "    collision += 1\n",
        "\n",
        "graph.append(\"%s\"%(time.time()-start_time))"
      ],
      "metadata": {
        "colab": {
          "base_uri": "https://localhost:8080/"
        },
        "id": "HpTRN2nQob34",
        "outputId": "fb4aead0-ac56-4ab4-968b-a7d38069a6b1"
      },
      "execution_count": 156,
      "outputs": [
        {
          "output_type": "stream",
          "name": "stdout",
          "text": [
            "\"homework8\" Hash: 00010000111110100010010011101110100111110110110010011101111101001100101101001111000100010010100011111111100110001011010101011011110111110010001100000101110110000000000100111011001001011100001110011111111010100110010100100110010111100111000001100000011110\n",
            "\"homework28\" Hash: 00010101110111101001011111000001011011000011001001110110010100111111000001001000100101111110001100101111100111001011111101101100111100110011111000110111101011010100110101111101010010001011011000110000011010111111100000111000001001101001111000101000011110\n",
            "Execution time: 0.0050351619720458984 seconds\n"
          ]
        }
      ]
    },
    {
      "cell_type": "code",
      "source": [
        "import hashlib\n",
        "import time\n",
        "\n",
        "collision = 0\n",
        "start_time = time.time()\n",
        "\n",
        "for n in range(50):\n",
        "  if collision == 2:\n",
        "    print(\"Execution time: %s seconds\"%(time.time()-start_time))\n",
        "    break;\n",
        "  string = f'homework{n}'.encode()\n",
        "  sha = hashlib.sha256(string).hexdigest()\n",
        "  bin_sha = \"{0:256b}\".format(int(sha, 16))[2:]\n",
        "  if bin_sha.startswith('0000'):\n",
        "    print(f'\"homework{n}\" Hash: {bin_sha}')\n",
        "    collision += 1\n",
        "\n",
        "graph.append(\"%s\"%(time.time()-start_time))"
      ],
      "metadata": {
        "colab": {
          "base_uri": "https://localhost:8080/"
        },
        "id": "8lcijJRGoh9O",
        "outputId": "2cd83089-dcba-4c5f-96f5-0484b18560b5"
      },
      "execution_count": 157,
      "outputs": [
        {
          "output_type": "stream",
          "name": "stdout",
          "text": [
            "\"homework31\" Hash: 00000111011010100110001000010110011100000100100001101010101100110011110100100000010111100010101101110010111001010110110110111101011111000011100100001101000011000010110110010011101001000100000111101111001011101101110101001011100110010100000001111001001101\n",
            "\"homework43\" Hash: 00001111000111101110110001101011010000001010000100010110001011100111111111101100000010110010001011010000011111000110010010111010011001001100001101100101010010111111110000111110010001010000001011110011001101100111001101011010100011110100001111001100111101\n",
            "Execution time: 0.003804922103881836 seconds\n"
          ]
        }
      ]
    },
    {
      "cell_type": "code",
      "source": [
        "import hashlib\n",
        "import time\n",
        "\n",
        "collision = 0\n",
        "start_time = time.time()\n",
        "\n",
        "for n in range(50):\n",
        "  if collision == 2:\n",
        "    print(\"Execution time: %s seconds\"%(time.time()-start_time))\n",
        "    break;\n",
        "  string = f'homework{n}'.encode()\n",
        "  sha = hashlib.sha256(string).hexdigest()\n",
        "  bin_sha = \"{0:256b}\".format(int(sha, 16))[2:]\n",
        "  if bin_sha.startswith('00000'):\n",
        "    print(f'\"homework{n}\" Hash: {bin_sha}')\n",
        "    collision += 1\n",
        "\n",
        "graph.append(\"%s\"%(time.time()-start_time))"
      ],
      "metadata": {
        "colab": {
          "base_uri": "https://localhost:8080/"
        },
        "id": "7ByIBjw5opnw",
        "outputId": "6c4f6cdf-c834-4670-ddbb-02ae8b6010e1"
      },
      "execution_count": 158,
      "outputs": [
        {
          "output_type": "stream",
          "name": "stdout",
          "text": [
            "\"homework31\" Hash: 00000111011010100110001000010110011100000100100001101010101100110011110100100000010111100010101101110010111001010110110110111101011111000011100100001101000011000010110110010011101001000100000111101111001011101101110101001011100110010100000001111001001101\n",
            "\"homework47\" Hash: 00000100011111111001001110011011000010010000010111111011011110110000110100011100100000100110010100111101101010011100110101000100100101001101101011000101110011011111111101011010011100010000001001011011100011001101010011101010110000101011011101111010000110\n",
            "Execution time: 0.0016522407531738281 seconds\n"
          ]
        }
      ]
    },
    {
      "cell_type": "code",
      "source": [
        "import hashlib\n",
        "import time\n",
        "\n",
        "collision = 0\n",
        "start_time = time.time()\n",
        "\n",
        "for n in range(300):\n",
        "  if collision == 2:\n",
        "    print(\"Execution time: %s seconds\"%(time.time()-start_time))\n",
        "    break;\n",
        "  string = f'homework{n}'.encode()\n",
        "  sha = hashlib.sha256(string).hexdigest()\n",
        "  bin_sha = \"{0:256b}\".format(int(sha, 16))[2:]\n",
        "  if bin_sha.startswith('000000'):\n",
        "    print(f'\"homework{n}\" Hash: {bin_sha}')\n",
        "    collision += 1\n",
        "\n",
        "graph.append(\"%s\"%(time.time()-start_time))"
      ],
      "metadata": {
        "colab": {
          "base_uri": "https://localhost:8080/"
        },
        "id": "hypA74CEovkN",
        "outputId": "f0159569-c008-4bfa-b78d-d910e857b420"
      },
      "execution_count": 159,
      "outputs": [
        {
          "output_type": "stream",
          "name": "stdout",
          "text": [
            "\"homework63\" Hash: 00000011110011001110101010000100100110100000000010110011110110011111101100010001011100100010010110000001110110111000101101100100111000101110101111001100010000111011001111100111001010111010011000110110110011000111011110011110010101111110110000111101111111\n",
            "\"homework206\" Hash: 00000000000001111110010001101101011010011011011011111111111111011010001010010110100111101111100011100111011001110100011000010000000001111110001111111011101011100000101010100010101111001011010100000111000011111101100011001011111110001001100101101000110011\n",
            "Execution time: 0.004287004470825195 seconds\n"
          ]
        }
      ]
    },
    {
      "cell_type": "code",
      "source": [
        "import hashlib\n",
        "import time\n",
        "\n",
        "collision = 0\n",
        "start_time = time.time()\n",
        "\n",
        "for n in range(400):\n",
        "  if collision == 2:\n",
        "    print(\"Execution time: %s seconds\"%(time.time()-start_time))\n",
        "    break;\n",
        "  string = f'homework{n}'.encode()\n",
        "  sha = hashlib.sha256(string).hexdigest()\n",
        "  bin_sha = \"{0:256b}\".format(int(sha, 16))[2:]\n",
        "  if bin_sha.startswith('0000000'):\n",
        "    print(f'\"homework{n}\" Hash: {bin_sha}')\n",
        "    collision += 1\n",
        "\n",
        "graph.append(\"%s\"%(time.time()-start_time))"
      ],
      "metadata": {
        "colab": {
          "base_uri": "https://localhost:8080/"
        },
        "id": "Pc-7Q-A4o5zt",
        "outputId": "cf7d6a4c-b11f-457e-b52a-1c109e283147"
      },
      "execution_count": 160,
      "outputs": [
        {
          "output_type": "stream",
          "name": "stdout",
          "text": [
            "\"homework206\" Hash: 00000000000001111110010001101101011010011011011011111111111111011010001010010110100111101111100011100111011001110100011000010000000001111110001111111011101011100000101010100010101111001011010100000111000011111101100011001011111110001001100101101000110011\n",
            "\"homework316\" Hash: 00000001110101001010011000110001011100101100110110101101010010010000011001111000000010110110101111010011111001011000101100100001110101000111000100101011101010110111000100001011111101100101000011010001001011111001001010110010011111011011111101000000101110\n",
            "Execution time: 0.0028030872344970703 seconds\n"
          ]
        }
      ]
    },
    {
      "cell_type": "code",
      "source": [
        "import hashlib\n",
        "import time\n",
        "\n",
        "collision = 0\n",
        "start_time = time.time()\n",
        "\n",
        "for n in range(600):\n",
        "  if collision == 2:\n",
        "    print(\"Execution time: %s seconds\"%(time.time()-start_time))\n",
        "    break;\n",
        "  string = f'homework{n}'.encode()\n",
        "  sha = hashlib.sha256(string).hexdigest()\n",
        "  bin_sha = \"{0:256b}\".format(int(sha, 16))[2:]\n",
        "  if bin_sha.startswith('00000000'):\n",
        "    print(f'\"homework{n}\" Hash: {bin_sha}')\n",
        "    collision += 1\n",
        "\n",
        "graph.append(\"%s\"%(time.time()-start_time))"
      ],
      "metadata": {
        "colab": {
          "base_uri": "https://localhost:8080/"
        },
        "id": "rDSDN-IApA8T",
        "outputId": "00532085-4973-4f18-f49a-6493d4aa8a04"
      },
      "execution_count": 161,
      "outputs": [
        {
          "output_type": "stream",
          "name": "stdout",
          "text": [
            "\"homework206\" Hash: 00000000000001111110010001101101011010011011011011111111111111011010001010010110100111101111100011100111011001110100011000010000000001111110001111111011101011100000101010100010101111001011010100000111000011111101100011001011111110001001100101101000110011\n",
            "\"homework522\" Hash: 00000000110011100101111000100011000001110011110001010010011110101010001100111001001010100100001110100010001111010101010000100110001001001101001001010111011100111110100011010010011011110110001101000000101001101101111101110001001010100000011010000111110110\n",
            "Execution time: 0.007254600524902344 seconds\n"
          ]
        }
      ]
    },
    {
      "cell_type": "code",
      "source": [
        "import hashlib\n",
        "import time\n",
        "\n",
        "collision = 0\n",
        "start_time = time.time()\n",
        "\n",
        "for n in range(700):\n",
        "  if collision == 2:\n",
        "    print(\"Execution time: %s seconds\"%(time.time()-start_time))\n",
        "    break;\n",
        "  string = f'homework{n}'.encode()\n",
        "  sha = hashlib.sha256(string).hexdigest()\n",
        "  bin_sha = \"{0:256b}\".format(int(sha, 16))[2:]\n",
        "  if bin_sha.startswith('000000000'):\n",
        "    print(f'\"homework{n}\" Hash: {bin_sha}')\n",
        "    collision += 1\n",
        "\n",
        "graph.append(\"%s\"%(time.time()-start_time))"
      ],
      "metadata": {
        "colab": {
          "base_uri": "https://localhost:8080/"
        },
        "id": "OZ9ovXi0pI2C",
        "outputId": "b000cf76-445b-4efb-d54f-2ae1a67c5a15"
      },
      "execution_count": 162,
      "outputs": [
        {
          "output_type": "stream",
          "name": "stdout",
          "text": [
            "\"homework206\" Hash: 00000000000001111110010001101101011010011011011011111111111111011010001010010110100111101111100011100111011001110100011000010000000001111110001111111011101011100000101010100010101111001011010100000111000011111101100011001011111110001001100101101000110011\n",
            "\"homework694\" Hash: 00000000000111100101101101101011000001011111111001001001000101111110100001100010111101100001010011000111000010111110100010001111011001010010000111000000001000100101110110101110010010011110001011100100110110100010010110000000001000101100011101111000010010\n",
            "Execution time: 0.007422685623168945 seconds\n"
          ]
        }
      ]
    },
    {
      "cell_type": "code",
      "source": [
        "import hashlib\n",
        "import time\n",
        "\n",
        "collision = 0\n",
        "start_time = time.time()\n",
        "\n",
        "for n in range(800):\n",
        "  if collision == 2:\n",
        "    print(\"Execution time: %s seconds\"%(time.time()-start_time))\n",
        "    break;\n",
        "  string = f'homework{n}'.encode()\n",
        "  sha = hashlib.sha256(string).hexdigest()\n",
        "  bin_sha = \"{0:256b}\".format(int(sha, 16))[2:]\n",
        "  if bin_sha.startswith('0000000000'):\n",
        "    print(f'\"homework{n}\" Hash: {bin_sha}')\n",
        "    collision += 1\n",
        "\n",
        "graph.append(\"%s\"%(time.time()-start_time))"
      ],
      "metadata": {
        "colab": {
          "base_uri": "https://localhost:8080/"
        },
        "id": "Cnar9Ft5pQUq",
        "outputId": "0d6bdea8-4dd8-4fa2-b715-3b5da8089187"
      },
      "execution_count": 163,
      "outputs": [
        {
          "output_type": "stream",
          "name": "stdout",
          "text": [
            "\"homework206\" Hash: 00000000000001111110010001101101011010011011011011111111111111011010001010010110100111101111100011100111011001110100011000010000000001111110001111111011101011100000101010100010101111001011010100000111000011111101100011001011111110001001100101101000110011\n",
            "\"homework694\" Hash: 00000000000111100101101101101011000001011111111001001001000101111110100001100010111101100001010011000111000010111110100010001111011001010010000111000000001000100101110110101110010010011110001011100100110110100010010110000000001000101100011101111000010010\n",
            "Execution time: 0.005601167678833008 seconds\n"
          ]
        }
      ]
    },
    {
      "cell_type": "code",
      "source": [
        "import hashlib\n",
        "import time\n",
        "\n",
        "collision = 0\n",
        "start_time = time.time()\n",
        "\n",
        "for n in range(800):\n",
        "  if collision == 2:\n",
        "    print(\"Execution time: %s seconds\"%(time.time()-start_time))\n",
        "    break;\n",
        "  string = f'homework{n}'.encode()\n",
        "  sha = hashlib.sha256(string).hexdigest()\n",
        "  bin_sha = \"{0:256b}\".format(int(sha, 16))[2:]\n",
        "  if bin_sha.startswith('00000000000'):\n",
        "    print(f'\"homework{n}\" Hash: {bin_sha}')\n",
        "    collision += 1\n",
        "\n",
        "graph.append(\"%s\"%(time.time()-start_time))"
      ],
      "metadata": {
        "colab": {
          "base_uri": "https://localhost:8080/"
        },
        "id": "fT3RE_xfpakP",
        "outputId": "2fc8bd52-3f27-40ce-fb7d-a6d85d4bc574"
      },
      "execution_count": 164,
      "outputs": [
        {
          "output_type": "stream",
          "name": "stdout",
          "text": [
            "\"homework206\" Hash: 00000000000001111110010001101101011010011011011011111111111111011010001010010110100111101111100011100111011001110100011000010000000001111110001111111011101011100000101010100010101111001011010100000111000011111101100011001011111110001001100101101000110011\n",
            "\"homework694\" Hash: 00000000000111100101101101101011000001011111111001001001000101111110100001100010111101100001010011000111000010111110100010001111011001010010000111000000001000100101110110101110010010011110001011100100110110100010010110000000001000101100011101111000010010\n",
            "Execution time: 0.004499673843383789 seconds\n"
          ]
        }
      ]
    },
    {
      "cell_type": "code",
      "source": [
        "import hashlib\n",
        "import time\n",
        "\n",
        "collision = 0\n",
        "start_time = time.time()\n",
        "\n",
        "for n in range(3000):\n",
        "  if collision == 2:\n",
        "    print(\"Execution time: %s seconds\"%(time.time()-start_time))\n",
        "    break;\n",
        "  string = f'homework{n}'.encode()\n",
        "  sha = hashlib.sha256(string).hexdigest()\n",
        "  bin_sha = \"{0:256b}\".format(int(sha, 16))[2:]\n",
        "  if bin_sha.startswith('000000000000'):\n",
        "    print(f'\"homework{n}\" Hash: {bin_sha}')\n",
        "    collision += 1\n",
        "\n",
        "graph.append(\"%s\"%(time.time()-start_time))"
      ],
      "metadata": {
        "colab": {
          "base_uri": "https://localhost:8080/"
        },
        "id": "a3VuMi6HpiHy",
        "outputId": "dd762f8d-db6b-45f3-ddfe-c0c8101e6e5c"
      },
      "execution_count": 165,
      "outputs": [
        {
          "output_type": "stream",
          "name": "stdout",
          "text": [
            "\"homework206\" Hash: 00000000000001111110010001101101011010011011011011111111111111011010001010010110100111101111100011100111011001110100011000010000000001111110001111111011101011100000101010100010101111001011010100000111000011111101100011001011111110001001100101101000110011\n",
            "\"homework2145\" Hash: 00000000000011010100000101010101101110011010011000011110101110011101000010010100001101011101100000110000011101110111101111110110100011110001110010100001110010000100011010001110000100011111101100001110111110100110011010100001100110011010101110010101011111\n",
            "Execution time: 0.010781288146972656 seconds\n"
          ]
        }
      ]
    },
    {
      "cell_type": "code",
      "source": [
        "import hashlib\n",
        "import time\n",
        "\n",
        "collision = 0\n",
        "start_time = time.time()\n",
        "\n",
        "for n in range(4000):\n",
        "  if collision == 2:\n",
        "    print(\"Execution time: %s seconds\"%(time.time()-start_time))\n",
        "    break;\n",
        "  string = f'homework{n}'.encode()\n",
        "  sha = hashlib.sha256(string).hexdigest()\n",
        "  bin_sha = \"{0:256b}\".format(int(sha, 16))[2:]\n",
        "  if bin_sha.startswith('0000000000000'):\n",
        "    print(f'\"homework{n}\" Hash: {bin_sha}')\n",
        "    collision += 1\n",
        "\n",
        "graph.append(\"%s\"%(time.time()-start_time))"
      ],
      "metadata": {
        "colab": {
          "base_uri": "https://localhost:8080/"
        },
        "id": "-FhOfEzYpxZ5",
        "outputId": "fe069c9c-766e-4f09-ea53-f27521602bfe"
      },
      "execution_count": 166,
      "outputs": [
        {
          "output_type": "stream",
          "name": "stdout",
          "text": [
            "\"homework206\" Hash: 00000000000001111110010001101101011010011011011011111111111111011010001010010110100111101111100011100111011001110100011000010000000001111110001111111011101011100000101010100010101111001011010100000111000011111101100011001011111110001001100101101000110011\n",
            "\"homework3150\" Hash: 00000000000001011101100001000101000001001010001100110110101011011010000011001100010010001110111111001111000101101010101100111111101001111110011110101100100111001111100010010101011100110010010011101000111100000010101100100010001001110101100011101001111010\n",
            "Execution time: 0.018234968185424805 seconds\n"
          ]
        }
      ]
    },
    {
      "cell_type": "code",
      "source": [
        "import hashlib\n",
        "import time\n",
        "\n",
        "collision = 0\n",
        "start_time = time.time()\n",
        "\n",
        "for n in range(200000):\n",
        "  if collision == 2:\n",
        "    print(\"Execution time: %s seconds\"%(time.time()-start_time))\n",
        "    break;\n",
        "  string = f'homework{n}'.encode()\n",
        "  sha = hashlib.sha256(string).hexdigest()\n",
        "  bin_sha = \"{0:256b}\".format(int(sha, 16))[2:]\n",
        "  if bin_sha.startswith('00000000000000'):\n",
        "    print(f'\"homework{n}\" Hash: {bin_sha}')\n",
        "    collision += 1\n",
        "\n",
        "graph.append(\"%s\"%(time.time()-start_time))"
      ],
      "metadata": {
        "colab": {
          "base_uri": "https://localhost:8080/"
        },
        "id": "AmC_1vj1p7Ig",
        "outputId": "cfe7a6db-d571-4a26-9845-d92fa0dd4bad"
      },
      "execution_count": 167,
      "outputs": [
        {
          "output_type": "stream",
          "name": "stdout",
          "text": [
            "\"homework5406\" Hash: 00000000000000001111100100110001001110011010100011111010100001001000100000010100101011100000100111011101011001111010010100100001011001001100001111010110001101111001100101110100010101010101111101010111000001101111011100100011110111111111010001111110011000\n",
            "\"homework120554\" Hash: 00000000000000000000110011111000100000111001000110000110011000110000100001000001111110010100011100000010100000001101111011001101110000011101001100010101100110000100001110000000011110101000000010111000101001111101001011111100001101100111101110101100001011\n",
            "Execution time: 0.3104069232940674 seconds\n"
          ]
        }
      ]
    },
    {
      "cell_type": "code",
      "source": [
        "import hashlib\n",
        "import time\n",
        "\n",
        "collision = 0\n",
        "start_time = time.time()\n",
        "\n",
        "for n in range(200000):\n",
        "  if collision == 2:\n",
        "    print(\"Execution time: %s seconds\"%(time.time()-start_time))\n",
        "    break;\n",
        "  string = f'homework{n}'.encode()\n",
        "  sha = hashlib.sha256(string).hexdigest()\n",
        "  bin_sha = \"{0:256b}\".format(int(sha, 16))[2:]\n",
        "  if bin_sha.startswith('000000000000000'):\n",
        "    print(f'\"homework{n}\" Hash: {bin_sha}')\n",
        "    collision += 1\n",
        "\n",
        "graph.append(\"%s\"%(time.time()-start_time))"
      ],
      "metadata": {
        "colab": {
          "base_uri": "https://localhost:8080/"
        },
        "id": "7XaxKlVwqPUO",
        "outputId": "b2d86698-f9f7-4ff4-d16a-870c9e5e971c"
      },
      "execution_count": 168,
      "outputs": [
        {
          "output_type": "stream",
          "name": "stdout",
          "text": [
            "\"homework5406\" Hash: 00000000000000001111100100110001001110011010100011111010100001001000100000010100101011100000100111011101011001111010010100100001011001001100001111010110001101111001100101110100010101010101111101010111000001101111011100100011110111111111010001111110011000\n",
            "\"homework120554\" Hash: 00000000000000000000110011111000100000111001000110000110011000110000100001000001111110010100011100000010100000001101111011001101110000011101001100010101100110000100001110000000011110101000000010111000101001111101001011111100001101100111101110101100001011\n",
            "Execution time: 0.31719064712524414 seconds\n"
          ]
        }
      ]
    },
    {
      "cell_type": "code",
      "source": [
        "import hashlib\n",
        "import time\n",
        "\n",
        "collision = 0\n",
        "start_time = time.time()\n",
        "\n",
        "for n in range(200000):\n",
        "  if collision == 2:\n",
        "    print(\"Execution time: %s seconds\"%(time.time()-start_time))\n",
        "    break;\n",
        "  string = f'homework{n}'.encode()\n",
        "  sha = hashlib.sha256(string).hexdigest()\n",
        "  bin_sha = \"{0:256b}\".format(int(sha, 16))[2:]\n",
        "  if bin_sha.startswith('0000000000000000'):\n",
        "    print(f'\"homework{n}\" Hash: {bin_sha}')\n",
        "    collision += 1\n",
        "\n",
        "graph.append(\"%s\"%(time.time()-start_time))"
      ],
      "metadata": {
        "colab": {
          "base_uri": "https://localhost:8080/"
        },
        "id": "ZbiHFqIAqfEI",
        "outputId": "e1a75d51-4763-4285-d229-ef839e04e194"
      },
      "execution_count": 169,
      "outputs": [
        {
          "output_type": "stream",
          "name": "stdout",
          "text": [
            "\"homework5406\" Hash: 00000000000000001111100100110001001110011010100011111010100001001000100000010100101011100000100111011101011001111010010100100001011001001100001111010110001101111001100101110100010101010101111101010111000001101111011100100011110111111111010001111110011000\n",
            "\"homework120554\" Hash: 00000000000000000000110011111000100000111001000110000110011000110000100001000001111110010100011100000010100000001101111011001101110000011101001100010101100110000100001110000000011110101000000010111000101001111101001011111100001101100111101110101100001011\n",
            "Execution time: 0.30962324142456055 seconds\n"
          ]
        }
      ]
    },
    {
      "cell_type": "code",
      "source": [
        "import hashlib\n",
        "import time\n",
        "\n",
        "collision = 0\n",
        "start_time = time.time()\n",
        "\n",
        "for n in range(300000):\n",
        "  if collision == 2:\n",
        "    print(\"Execution time: %s seconds\"%(time.time()-start_time))\n",
        "    break;\n",
        "  string = f'homework{n}'.encode()\n",
        "  sha = hashlib.sha256(string).hexdigest()\n",
        "  bin_sha = \"{0:256b}\".format(int(sha, 16))[2:]\n",
        "  if bin_sha.startswith('00000000000000000'):\n",
        "    print(f'\"homework{n}\" Hash: {bin_sha}')\n",
        "    collision += 1\n",
        "\n",
        "graph.append(\"%s\"%(time.time()-start_time))"
      ],
      "metadata": {
        "colab": {
          "base_uri": "https://localhost:8080/"
        },
        "id": "vTYW80tgqm54",
        "outputId": "6af9c2f1-06a9-46ac-f45c-548cd871cd7d"
      },
      "execution_count": 170,
      "outputs": [
        {
          "output_type": "stream",
          "name": "stdout",
          "text": [
            "\"homework120554\" Hash: 00000000000000000000110011111000100000111001000110000110011000110000100001000001111110010100011100000010100000001101111011001101110000011101001100010101100110000100001110000000011110101000000010111000101001111101001011111100001101100111101110101100001011\n",
            "\"homework239144\" Hash: 00000000000000000100000101111000110000001111101101110100101001111101000010011001100110110101101000010100011011001111000001111001010111101101111000100100110001111101010101110010011101010011100000111000100010101010100100101110100101100000110110001111001000\n",
            "Execution time: 0.6566028594970703 seconds\n"
          ]
        }
      ]
    },
    {
      "cell_type": "code",
      "source": [
        "import hashlib\n",
        "import time\n",
        "\n",
        "collision = 0\n",
        "start_time = time.time()\n",
        "\n",
        "for n in range(600000):\n",
        "  if collision == 2:\n",
        "    print(\"Execution time: %s seconds\"%(time.time()-start_time))\n",
        "    break;\n",
        "  string = f'homework{n}'.encode()\n",
        "  sha = hashlib.sha256(string).hexdigest()\n",
        "  bin_sha = \"{0:256b}\".format(int(sha, 16))[2:]\n",
        "  if bin_sha.startswith('000000000000000000'):\n",
        "    print(f'\"homework{n}\" Hash: {bin_sha}')\n",
        "    collision += 1\n",
        "\n",
        "graph.append(\"%s\"%(time.time()-start_time))"
      ],
      "metadata": {
        "colab": {
          "base_uri": "https://localhost:8080/"
        },
        "id": "aUVmJRGtqw4g",
        "outputId": "cb3ed879-c386-44d9-ae41-a05cf9788741"
      },
      "execution_count": 171,
      "outputs": [
        {
          "output_type": "stream",
          "name": "stdout",
          "text": [
            "\"homework120554\" Hash: 00000000000000000000110011111000100000111001000110000110011000110000100001000001111110010100011100000010100000001101111011001101110000011101001100010101100110000100001110000000011110101000000010111000101001111101001011111100001101100111101110101100001011\n",
            "\"homework509774\" Hash: 00000000000000000010010111000000001101010000110001011101110001001100100100100001000110110111100001101011010010011110101100001100100000110000010100100001000011010100110101001011110011000011110110001001011011110001111100001010000100111000010001111010111000\n",
            "Execution time: 2.6059353351593018 seconds\n"
          ]
        }
      ]
    },
    {
      "cell_type": "code",
      "source": [
        "import hashlib\n",
        "import time\n",
        "\n",
        "collision = 0\n",
        "start_time = time.time()\n",
        "\n",
        "for n in range(800000):\n",
        "  if collision == 2:\n",
        "    print(\"Execution time: %s seconds\"%(time.time()-start_time))\n",
        "    break;\n",
        "  string = f'homework{n}'.encode()\n",
        "  sha = hashlib.sha256(string).hexdigest()\n",
        "  bin_sha = \"{0:256b}\".format(int(sha, 16))[2:]\n",
        "  if bin_sha.startswith('0000000000000000000'):\n",
        "    print(f'\"homework{n}\" Hash: {bin_sha}')\n",
        "    collision += 1\n",
        "\n",
        "graph.append(\"%s\"%(time.time()-start_time))"
      ],
      "metadata": {
        "colab": {
          "base_uri": "https://localhost:8080/"
        },
        "id": "Xp0IC_uBq-Fc",
        "outputId": "b037b423-8a90-4910-8650-bf836879f8f5"
      },
      "execution_count": 172,
      "outputs": [
        {
          "output_type": "stream",
          "name": "stdout",
          "text": [
            "\"homework120554\" Hash: 00000000000000000000110011111000100000111001000110000110011000110000100001000001111110010100011100000010100000001101111011001101110000011101001100010101100110000100001110000000011110101000000010111000101001111101001011111100001101100111101110101100001011\n",
            "\"homework722918\" Hash: 00000000000000000001110001010111111010111011001000101001010011000100001110010100110110111011110011101010000110011011110011111110110010011010000110011011010111001110100010111010001110010111111111101111101101111100000101110111100001101101101010110101101011\n",
            "Execution time: 1.8759660720825195 seconds\n"
          ]
        }
      ]
    },
    {
      "cell_type": "code",
      "source": [
        "import hashlib\n",
        "import time\n",
        "\n",
        "collision = 0\n",
        "start_time = time.time()\n",
        "\n",
        "for n in range(3000000):\n",
        "  if collision == 2:\n",
        "    print(\"Execution time: %s seconds\"%(time.time()-start_time))\n",
        "    break;\n",
        "  string = f'homework{n}'.encode()\n",
        "  sha = hashlib.sha256(string).hexdigest()\n",
        "  bin_sha = \"{0:256b}\".format(int(sha, 16))[2:]\n",
        "  if bin_sha.startswith('00000000000000000000'):\n",
        "    print(f'\"homework{n}\" Hash: {bin_sha}')\n",
        "    collision += 1\n",
        "\n",
        "graph.append(\"%s\"%(time.time()-start_time))"
      ],
      "metadata": {
        "colab": {
          "base_uri": "https://localhost:8080/"
        },
        "id": "8x8P2LvsrJeE",
        "outputId": "e6734a46-e43b-400a-a973-975dece2828b"
      },
      "execution_count": 173,
      "outputs": [
        {
          "output_type": "stream",
          "name": "stdout",
          "text": [
            "\"homework120554\" Hash: 00000000000000000000110011111000100000111001000110000110011000110000100001000001111110010100011100000010100000001101111011001101110000011101001100010101100110000100001110000000011110101000000010111000101001111101001011111100001101100111101110101100001011\n",
            "\"homework2126710\" Hash: 00000000000000000000011100100110011111110101111100101011100010101101101110100110010101101101001111010100010001111001001111101100011011011010101100011100001110110101100001111000110001000001011110100101101010011111011000011011111001000101000001100000110100\n",
            "Execution time: 6.831709384918213 seconds\n"
          ]
        }
      ]
    },
    {
      "cell_type": "code",
      "source": [
        "#showing graph\n",
        "print(graph)"
      ],
      "metadata": {
        "colab": {
          "base_uri": "https://localhost:8080/"
        },
        "id": "M_E-uwZXr_0H",
        "outputId": "0ddb74df-8467-48b0-8b8d-32796f936767"
      },
      "execution_count": 174,
      "outputs": [
        {
          "output_type": "stream",
          "name": "stdout",
          "text": [
            "['0.0030243396759033203', '0.004724025726318359', '0.005751132965087891', '0.0057675838470458984', '0.002457141876220703', '0.0050313472747802734', '0.0032939910888671875', '0.007826805114746094', '0.00796055793762207', '0.006794452667236328', '0.005096435546875', '0.011376142501831055', '0.018822193145751953', '0.3106362819671631', '0.31743311882019043', '0.3112211227416992', '0.6575453281402588', '2.6066031455993652', '1.8762011528015137', '6.831995487213135']\n"
          ]
        }
      ]
    },
    {
      "cell_type": "code",
      "source": [],
      "metadata": {
        "id": "IyV7IuqGGGvb"
      },
      "execution_count": 152,
      "outputs": []
    }
  ]
}