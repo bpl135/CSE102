{
  "nbformat": 4,
  "nbformat_minor": 0,
  "metadata": {
    "colab": {
      "provenance": [],
      "authorship_tag": "ABX9TyMcFKnGDvsuvQxEw36f6phU",
      "include_colab_link": true
    },
    "kernelspec": {
      "name": "python3",
      "display_name": "Python 3"
    },
    "language_info": {
      "name": "python"
    }
  },
  "cells": [
    {
      "cell_type": "markdown",
      "metadata": {
        "id": "view-in-github",
        "colab_type": "text"
      },
      "source": [
        "<a href=\"https://colab.research.google.com/github/bpl135/CSE102/blob/nextjs_blog/HW_3.ipynb\" target=\"_parent\"><img src=\"https://colab.research.google.com/assets/colab-badge.svg\" alt=\"Open In Colab\"/></a>"
      ]
    },
    {
      "cell_type": "code",
      "execution_count": null,
      "metadata": {
        "id": "JjDa6txqGWuU"
      },
      "outputs": [],
      "source": [
        "graph = []"
      ]
    },
    {
      "cell_type": "code",
      "source": [
        "import hashlib\n",
        "import time\n",
        "\n",
        "collision = 0\n",
        "start_time = time.time()\n",
        "\n",
        "for n in range(5):\n",
        "  if collision == 2:\n",
        "    print(\"Execution time: %s seconds\"%(time.time()-start_time))\n",
        "    break;\n",
        "  string = f'homework{n}'.encode()\n",
        "  sha1 = hashlib.sha256(string).hexdigest()\n",
        "  sha2 = hashlib.sha256(sha1.encode()).hexdigest()\n",
        "  bin_sha2 = \"{0:256b}\".format(int(sha2, 16))[2:]\n",
        "  if bin_sha2.startswith('0'):\n",
        "    print(f'\"homework{n}\" Hash: {bin_sha2}')\n",
        "    collision += 1\n",
        "\n",
        "graph.append(\"%s\"%(time.time()-start_time))"
      ],
      "metadata": {
        "colab": {
          "base_uri": "https://localhost:8080/"
        },
        "id": "ohKOkQ5UGYmk",
        "outputId": "4c7b0601-9c1a-45ac-d25f-2b40e8112bf9"
      },
      "execution_count": null,
      "outputs": [
        {
          "output_type": "stream",
          "name": "stdout",
          "text": [
            "\"homework2\" Hash: 01111010000011110101101100110001001001101001111011011000111111101000101100101110110000100101001010011011000100011110100011111000001011000001110111100011011101110000100101100111000011110110110001011000000110001111111001111100001111111000001100000100110011\n",
            "\"homework3\" Hash: 00101110111011101011010000001110000010011110010100111101011011010011111111111101000110000100000111000111111001000010000000101010011000010010001111000100001100110100010111100011000011110111100111101101100011100001001000100001001001010101010010000001100111\n",
            "Execution time: 0.005369663238525391 seconds\n"
          ]
        }
      ]
    },
    {
      "cell_type": "code",
      "source": [
        "import hashlib\n",
        "import time\n",
        "\n",
        "collision = 0\n",
        "start_time = time.time()\n",
        "\n",
        "for n in range(20):\n",
        "  if collision == 2:\n",
        "    print(\"Execution time: %s seconds\"%(time.time()-start_time))\n",
        "    break;\n",
        "  string = f'homework{n}'.encode()\n",
        "  sha1 = hashlib.sha256(string).hexdigest()\n",
        "  sha2 = hashlib.sha256(sha1.encode()).hexdigest()\n",
        "  bin_sha2 = \"{0:256b}\".format(int(sha2, 16))[2:]\n",
        "  if bin_sha2.startswith('00'):\n",
        "    print(f'\"homework{n}\" Hash: {bin_sha2}')\n",
        "    collision += 1\n",
        "\n",
        "graph.append(\"%s\"%(time.time()-start_time))"
      ],
      "metadata": {
        "colab": {
          "base_uri": "https://localhost:8080/"
        },
        "id": "fUIt-DHiLnqB",
        "outputId": "fffde895-5801-4a42-beb6-fdec1d5645c1"
      },
      "execution_count": null,
      "outputs": [
        {
          "output_type": "stream",
          "name": "stdout",
          "text": [
            "\"homework3\" Hash: 00101110111011101011010000001110000010011110010100111101011011010011111111111101000110000100000111000111111001000010000000101010011000010010001111000100001100110100010111100011000011110111100111101101100011100001001000100001001001010101010010000001100111\n",
            "\"homework12\" Hash: 00111010100111100001001000101111010000010100011111010100010101111000101010111100110001001100000111111101110001011101111111100110001000001101110000111011111011001001110001100000010011111100100100110101010000001001010111010101100001111001101001001101011111\n",
            "Execution time: 0.0013399124145507812 seconds\n"
          ]
        }
      ]
    },
    {
      "cell_type": "code",
      "source": [
        "import hashlib\n",
        "import time\n",
        "\n",
        "collision = 0\n",
        "start_time = time.time()\n",
        "\n",
        "for n in range(30):\n",
        "  if collision == 2:\n",
        "    print(\"Execution time: %s seconds\"%(time.time()-start_time))\n",
        "    break;\n",
        "  string = f'homework{n}'.encode()\n",
        "  sha1 = hashlib.sha256(string).hexdigest()\n",
        "  sha2 = hashlib.sha256(sha1.encode()).hexdigest()\n",
        "  bin_sha2 = \"{0:256b}\".format(int(sha2, 16))[2:]\n",
        "  if bin_sha2.startswith('000'):\n",
        "    print(f'\"homework{n}\" Hash: {bin_sha2}')\n",
        "    collision += 1\n",
        "\n",
        "graph.append(\"%s\"%(time.time()-start_time))"
      ],
      "metadata": {
        "colab": {
          "base_uri": "https://localhost:8080/"
        },
        "id": "fY5LXNCFHSho",
        "outputId": "f4010879-f64b-426e-dad7-f73f77989a5b"
      },
      "execution_count": null,
      "outputs": [
        {
          "output_type": "stream",
          "name": "stdout",
          "text": [
            "\"homework16\" Hash: 00011001010101001111101011111000010011100100101101010010010001011110110001011101010111001010110010111001001011111000010111110011011011000101011010000001110011001000010011111110010110101001111000001101010000101110010101011001000111000100010010100110010010\n",
            "\"homework21\" Hash: 00010101000110010100111010000000001100100000010001010001001100110001100000001111110110100111000111011001010110101001101001001000111101001111110101111000110001001100100001000001010000010101100000111011111101110010111001111000100101110110111010000010000101\n",
            "Execution time: 0.0026438236236572266 seconds\n"
          ]
        }
      ]
    },
    {
      "cell_type": "code",
      "source": [
        "import hashlib\n",
        "import time\n",
        "\n",
        "collision = 0\n",
        "start_time = time.time()\n",
        "\n",
        "for n in range(80):\n",
        "  if collision == 2:\n",
        "    print(\"Execution time: %s seconds\"%(time.time()-start_time))\n",
        "    break;\n",
        "  string = f'homework{n}'.encode()\n",
        "  sha1 = hashlib.sha256(string).hexdigest()\n",
        "  sha2 = hashlib.sha256(sha1.encode()).hexdigest()\n",
        "  bin_sha2 = \"{0:256b}\".format(int(sha2, 16))[2:]\n",
        "  if bin_sha2.startswith('0000'):\n",
        "    print(f'\"homework{n}\" Hash: {bin_sha2}')\n",
        "    collision += 1\n",
        "\n",
        "graph.append(\"%s\"%(time.time()-start_time))"
      ],
      "metadata": {
        "colab": {
          "base_uri": "https://localhost:8080/"
        },
        "id": "Q7k62SwKHh3B",
        "outputId": "efd1a3d6-544b-4be7-a97b-5b08cbae2046"
      },
      "execution_count": null,
      "outputs": [
        {
          "output_type": "stream",
          "name": "stdout",
          "text": [
            "\"homework27\" Hash: 00001100111100001010110100001001010010101111001110101010110110001101100110111011111101101011101100100111100111100010001010000110010100001001000101111111111110001010010111111000010010111001101011101110001101101101110101011101110101110101011100101000010101\n",
            "\"homework78\" Hash: 00001001100111001001010000101110010100100011101110110010101001010000001100101100000100001100011100010101001011000100001001000100110111111001101100011101000001000110110011110101010110011010110001010111010100110000001100000001101110011101010001011000110000\n",
            "Execution time: 0.0019969940185546875 seconds\n"
          ]
        }
      ]
    },
    {
      "cell_type": "code",
      "source": [
        "import hashlib\n",
        "import time\n",
        "\n",
        "collision = 0\n",
        "start_time = time.time()\n",
        "\n",
        "for n in range(200):\n",
        "  if collision == 2:\n",
        "    print(\"Execution time: %s seconds\"%(time.time()-start_time))\n",
        "    break;\n",
        "  string = f'homework{n}'.encode()\n",
        "  sha1 = hashlib.sha256(string).hexdigest()\n",
        "  sha2 = hashlib.sha256(sha1.encode()).hexdigest()\n",
        "  bin_sha2 = \"{0:256b}\".format(int(sha2, 16))[2:]\n",
        "  if bin_sha2.startswith('00000'):\n",
        "    print(f'\"homework{n}\" Hash: {bin_sha2}')\n",
        "    collision += 1\n",
        "\n",
        "graph.append(\"%s\"%(time.time()-start_time))"
      ],
      "metadata": {
        "colab": {
          "base_uri": "https://localhost:8080/"
        },
        "id": "2fmyJZfyHdUm",
        "outputId": "e992a6c8-82e6-4e6d-8c59-9e84841294d0"
      },
      "execution_count": null,
      "outputs": [
        {
          "output_type": "stream",
          "name": "stdout",
          "text": [
            "\"homework104\" Hash: 00000010010110000011000010000110011010110000001111011111111010000010111010001101011011001000111001000010010101011111111110110011101100011001100111100001110000001011010101000011110011100000110000110110011101101010111110001010010100000111000010000001000111\n",
            "\"homework123\" Hash: 00000001100010001110100100011101111010010101101110000111000011001100000100011010000001011100111100010100000010100101000000100101100110010011111110110111001011000111000000100001011011001111000000001101100101111100111001100001101110111000001111100101001111\n",
            "Execution time: 0.0007393360137939453 seconds\n"
          ]
        }
      ]
    },
    {
      "cell_type": "code",
      "source": [
        "import hashlib\n",
        "import time\n",
        "\n",
        "collision = 0\n",
        "start_time = time.time()\n",
        "\n",
        "for n in range(200):\n",
        "  if collision == 2:\n",
        "    print(\"Execution time: %s seconds\"%(time.time()-start_time))\n",
        "    break;\n",
        "  string = f'homework{n}'.encode()\n",
        "  sha1 = hashlib.sha256(string).hexdigest()\n",
        "  sha2 = hashlib.sha256(sha1.encode()).hexdigest()\n",
        "  bin_sha2 = \"{0:256b}\".format(int(sha2, 16))[2:]\n",
        "  if bin_sha2.startswith('000000'):\n",
        "    print(f'\"homework{n}\" Hash: {bin_sha2}')\n",
        "    collision += 1\n",
        "\n",
        "graph.append(\"%s\"%(time.time()-start_time))"
      ],
      "metadata": {
        "colab": {
          "base_uri": "https://localhost:8080/"
        },
        "id": "Cv-TdZDBIgLN",
        "outputId": "3466f30d-0e5c-41ca-8733-0263335a689a"
      },
      "execution_count": null,
      "outputs": [
        {
          "output_type": "stream",
          "name": "stdout",
          "text": [
            "\"homework104\" Hash: 00000010010110000011000010000110011010110000001111011111111010000010111010001101011011001000111001000010010101011111111110110011101100011001100111100001110000001011010101000011110011100000110000110110011101101010111110001010010100000111000010000001000111\n",
            "\"homework123\" Hash: 00000001100010001110100100011101111010010101101110000111000011001100000100011010000001011100111100010100000010100101000000100101100110010011111110110111001011000111000000100001011011001111000000001101100101111100111001100001101110111000001111100101001111\n",
            "Execution time: 0.002651214599609375 seconds\n"
          ]
        }
      ]
    },
    {
      "cell_type": "code",
      "source": [
        "import hashlib\n",
        "import time\n",
        "\n",
        "collision = 0\n",
        "start_time = time.time()\n",
        "\n",
        "for n in range(400):\n",
        "  if collision == 2:\n",
        "    print(\"Execution time: %s seconds\"%(time.time()-start_time))\n",
        "    break;\n",
        "  string = f'homework{n}'.encode()\n",
        "  sha1 = hashlib.sha256(string).hexdigest()\n",
        "  sha2 = hashlib.sha256(sha1.encode()).hexdigest()\n",
        "  bin_sha2 = \"{0:256b}\".format(int(sha2, 16))[2:]\n",
        "  if bin_sha2.startswith('0000000'):\n",
        "    print(f'\"homework{n}\" Hash: {bin_sha2}')\n",
        "    collision += 1\n",
        "\n",
        "graph.append(\"%s\"%(time.time()-start_time))"
      ],
      "metadata": {
        "colab": {
          "base_uri": "https://localhost:8080/"
        },
        "id": "hOL3ECtSIkp_",
        "outputId": "06b1f83d-ed32-4bbf-e3aa-7aef6f4a659f"
      },
      "execution_count": null,
      "outputs": [
        {
          "output_type": "stream",
          "name": "stdout",
          "text": [
            "\"homework123\" Hash: 00000001100010001110100100011101111010010101101110000111000011001100000100011010000001011100111100010100000010100101000000100101100110010011111110110111001011000111000000100001011011001111000000001101100101111100111001100001101110111000001111100101001111\n",
            "\"homework339\" Hash: 00000000001010100011000111101010111000001000100000101110000001101110101011101111011110010001011101001000011110110010010101100110100111010110001111111000011010011000000110011101110110110000111111111011011100001101101100010001001110001101001011110001010011\n",
            "Execution time: 0.008878231048583984 seconds\n"
          ]
        }
      ]
    },
    {
      "cell_type": "code",
      "source": [
        "import hashlib\n",
        "import time\n",
        "\n",
        "collision = 0\n",
        "start_time = time.time()\n",
        "\n",
        "for n in range(500):\n",
        "  if collision == 2:\n",
        "    print(\"Execution time: %s seconds\"%(time.time()-start_time))\n",
        "    break;\n",
        "  string = f'homework{n}'.encode()\n",
        "  sha1 = hashlib.sha256(string).hexdigest()\n",
        "  sha2 = hashlib.sha256(sha1.encode()).hexdigest()\n",
        "  bin_sha2 = \"{0:256b}\".format(int(sha2, 16))[2:]\n",
        "  if bin_sha2.startswith('00000000'):\n",
        "    print(f'\"homework{n}\" Hash: {bin_sha2}')\n",
        "    collision += 1\n",
        "\n",
        "graph.append(\"%s\"%(time.time()-start_time))"
      ],
      "metadata": {
        "colab": {
          "base_uri": "https://localhost:8080/"
        },
        "id": "3WgXMteIIq9l",
        "outputId": "fed61b3d-5468-4e2c-be59-6790f0db867e"
      },
      "execution_count": null,
      "outputs": [
        {
          "output_type": "stream",
          "name": "stdout",
          "text": [
            "\"homework339\" Hash: 00000000001010100011000111101010111000001000100000101110000001101110101011101111011110010001011101001000011110110010010101100110100111010110001111111000011010011000000110011101110110110000111111111011011100001101101100010001001110001101001011110001010011\n",
            "\"homework491\" Hash: 00000000011110011010000001000000000100111010101111111011101111111000010000011110000111101111010101000110100110101110000100110101011100111010011011010000111111100011000100000010101011010111100010001011100100101011101101001100110001010111000001110110101100\n",
            "Execution time: 0.004636049270629883 seconds\n"
          ]
        }
      ]
    },
    {
      "cell_type": "code",
      "source": [
        "import hashlib\n",
        "import time\n",
        "\n",
        "collision = 0\n",
        "start_time = time.time()\n",
        "\n",
        "for n in range(1000):\n",
        "  if collision == 2:\n",
        "    print(\"Execution time: %s seconds\"%(time.time()-start_time))\n",
        "    break;\n",
        "  string = f'homework{n}'.encode()\n",
        "  sha1 = hashlib.sha256(string).hexdigest()\n",
        "  sha2 = hashlib.sha256(sha1.encode()).hexdigest()\n",
        "  bin_sha2 = \"{0:256b}\".format(int(sha2, 16))[2:]\n",
        "  if bin_sha2.startswith('000000000'):\n",
        "    print(f'\"homework{n}\" Hash: {bin_sha2}')\n",
        "    collision += 1\n",
        "\n",
        "graph.append(\"%s\"%(time.time()-start_time))"
      ],
      "metadata": {
        "colab": {
          "base_uri": "https://localhost:8080/"
        },
        "id": "8QYJM8pVIxF7",
        "outputId": "4735136d-7d20-4849-a8a0-06c3abade10b"
      },
      "execution_count": null,
      "outputs": [
        {
          "output_type": "stream",
          "name": "stdout",
          "text": [
            "\"homework339\" Hash: 00000000001010100011000111101010111000001000100000101110000001101110101011101111011110010001011101001000011110110010010101100110100111010110001111111000011010011000000110011101110110110000111111111011011100001101101100010001001110001101001011110001010011\n",
            "\"homework491\" Hash: 00000000011110011010000001000000000100111010101111111011101111111000010000011110000111101111010101000110100110101110000100110101011100111010011011010000111111100011000100000010101011010111100010001011100100101011101101001100110001010111000001110110101100\n",
            "Execution time: 0.005053997039794922 seconds\n"
          ]
        }
      ]
    },
    {
      "cell_type": "code",
      "source": [
        "import hashlib\n",
        "import time\n",
        "\n",
        "collision = 0\n",
        "start_time = time.time()\n",
        "\n",
        "for n in range(4000):\n",
        "  if collision == 2:\n",
        "    print(\"Execution time: %s seconds\"%(time.time()-start_time))\n",
        "    break;\n",
        "  string = f'homework{n}'.encode()\n",
        "  sha1 = hashlib.sha256(string).hexdigest()\n",
        "  sha2 = hashlib.sha256(sha1.encode()).hexdigest()\n",
        "  bin_sha2 = \"{0:256b}\".format(int(sha2, 16))[2:]\n",
        "  if bin_sha2.startswith('0000000000'):\n",
        "    print(f'\"homework{n}\" Hash: {bin_sha2}')\n",
        "    collision += 1\n",
        "\n",
        "graph.append(\"%s\"%(time.time()-start_time))"
      ],
      "metadata": {
        "colab": {
          "base_uri": "https://localhost:8080/"
        },
        "id": "pkkKJcUuI3o4",
        "outputId": "653870df-e543-4f9f-d3da-1fd2c427d185"
      },
      "execution_count": null,
      "outputs": [
        {
          "output_type": "stream",
          "name": "stdout",
          "text": [
            "\"homework339\" Hash: 00000000001010100011000111101010111000001000100000101110000001101110101011101111011110010001011101001000011110110010010101100110100111010110001111111000011010011000000110011101110110110000111111111011011100001101101100010001001110001101001011110001010011\n",
            "\"homework3867\" Hash: 00000000000001000101001111001101000000100011101111011111110001100111111101010101111000100010010001000000000011101001000111111111100000010111100001000100010011000101000100001100111111101001111010001110101110101101101011110000001111100101101111101101101101\n",
            "Execution time: 0.028166532516479492 seconds\n"
          ]
        }
      ]
    },
    {
      "cell_type": "code",
      "source": [
        "import hashlib\n",
        "import time\n",
        "\n",
        "collision = 0\n",
        "start_time = time.time()\n",
        "\n",
        "for n in range(6000):\n",
        "  if collision == 2:\n",
        "    print(\"Execution time: %s seconds\"%(time.time()-start_time))\n",
        "    break;\n",
        "  string = f'homework{n}'.encode()\n",
        "  sha1 = hashlib.sha256(string).hexdigest()\n",
        "  sha2 = hashlib.sha256(sha1.encode()).hexdigest()\n",
        "  bin_sha2 = \"{0:256b}\".format(int(sha2, 16))[2:]\n",
        "  if bin_sha2.startswith('00000000000'):\n",
        "    print(f'\"homework{n}\" Hash: {bin_sha2}')\n",
        "    collision += 1\n",
        "\n",
        "graph.append(\"%s\"%(time.time()-start_time))"
      ],
      "metadata": {
        "colab": {
          "base_uri": "https://localhost:8080/"
        },
        "id": "soLrAQdBJGUS",
        "outputId": "06cef607-1e71-4c38-ecee-a7921c8e6a7b"
      },
      "execution_count": null,
      "outputs": [
        {
          "output_type": "stream",
          "name": "stdout",
          "text": [
            "\"homework3867\" Hash: 00000000000001000101001111001101000000100011101111011111110001100111111101010101111000100010010001000000000011101001000111111111100000010111100001000100010011000101000100001100111111101001111010001110101110101101101011110000001111100101101111101101101101\n",
            "\"homework5749\" Hash: 00000000000110010011110101111011001110110100110100111101000000000001111110111010111001101001110000111101100100001010010110011001001111110001101001101111111100111000100111100011000000100111100111001001010011000000100100000100011000101010010011110110111110\n",
            "Execution time: 0.030568361282348633 seconds\n"
          ]
        }
      ]
    },
    {
      "cell_type": "code",
      "source": [
        "import hashlib\n",
        "import time\n",
        "\n",
        "collision = 0\n",
        "start_time = time.time()\n",
        "\n",
        "for n in range(30000):\n",
        "  if collision == 2:\n",
        "    print(\"Execution time: %s seconds\"%(time.time()-start_time))\n",
        "    break;\n",
        "  string = f'homework{n}'.encode()\n",
        "  sha1 = hashlib.sha256(string).hexdigest()\n",
        "  sha2 = hashlib.sha256(sha1.encode()).hexdigest()\n",
        "  bin_sha2 = \"{0:256b}\".format(int(sha2, 16))[2:]\n",
        "  if bin_sha2.startswith('000000000000'):\n",
        "    print(f'\"homework{n}\" Hash: {bin_sha2}')\n",
        "    collision += 1\n",
        "\n",
        "graph.append(\"%s\"%(time.time()-start_time))"
      ],
      "metadata": {
        "colab": {
          "base_uri": "https://localhost:8080/"
        },
        "id": "exG7zh1eJOHG",
        "outputId": "0da5d688-affa-4f0f-f0cb-6c0aadaf3301"
      },
      "execution_count": null,
      "outputs": [
        {
          "output_type": "stream",
          "name": "stdout",
          "text": [
            "\"homework3867\" Hash: 00000000000001000101001111001101000000100011101111011111110001100111111101010101111000100010010001000000000011101001000111111111100000010111100001000100010011000101000100001100111111101001111010001110101110101101101011110000001111100101101111101101101101\n",
            "\"homework21068\" Hash: 00000000000000110011111000111101001000100101011011000100001000001010101011010010110111001101100000010111011101110101000111011111001010101011010111011001010000100110000000110110011111010100010110011111001000100010010010110100101000101010101001000100110011\n",
            "Execution time: 0.09032082557678223 seconds\n"
          ]
        }
      ]
    },
    {
      "cell_type": "code",
      "source": [
        "import hashlib\n",
        "import time\n",
        "\n",
        "collision = 0\n",
        "start_time = time.time()\n",
        "\n",
        "for n in range(30000):\n",
        "  if collision == 2:\n",
        "    print(\"Execution time: %s seconds\"%(time.time()-start_time))\n",
        "    break;\n",
        "  string = f'homework{n}'.encode()\n",
        "  sha1 = hashlib.sha256(string).hexdigest()\n",
        "  sha2 = hashlib.sha256(sha1.encode()).hexdigest()\n",
        "  bin_sha2 = \"{0:256b}\".format(int(sha2, 16))[2:]\n",
        "  if bin_sha2.startswith('0000000000000'):\n",
        "    print(f'\"homework{n}\" Hash: {bin_sha2}')\n",
        "    collision += 1\n",
        "\n",
        "graph.append(\"%s\"%(time.time()-start_time))"
      ],
      "metadata": {
        "colab": {
          "base_uri": "https://localhost:8080/"
        },
        "id": "EU2Gxal3JcPp",
        "outputId": "d87bacc8-5b57-48b8-e9c5-fe8ed61c62d3"
      },
      "execution_count": null,
      "outputs": [
        {
          "output_type": "stream",
          "name": "stdout",
          "text": [
            "\"homework3867\" Hash: 00000000000001000101001111001101000000100011101111011111110001100111111101010101111000100010010001000000000011101001000111111111100000010111100001000100010011000101000100001100111111101001111010001110101110101101101011110000001111100101101111101101101101\n",
            "\"homework21068\" Hash: 00000000000000110011111000111101001000100101011011000100001000001010101011010010110111001101100000010111011101110101000111011111001010101011010111011001010000100110000000110110011111010100010110011111001000100010010010110100101000101010101001000100110011\n",
            "Execution time: 0.18172407150268555 seconds\n"
          ]
        }
      ]
    },
    {
      "cell_type": "code",
      "source": [
        "import hashlib\n",
        "import time\n",
        "\n",
        "collision = 0\n",
        "start_time = time.time()\n",
        "\n",
        "for n in range(30000):\n",
        "  if collision == 2:\n",
        "    print(\"Execution time: %s seconds\"%(time.time()-start_time))\n",
        "    break;\n",
        "  string = f'homework{n}'.encode()\n",
        "  sha1 = hashlib.sha256(string).hexdigest()\n",
        "  sha2 = hashlib.sha256(sha1.encode()).hexdigest()\n",
        "  bin_sha2 = \"{0:256b}\".format(int(sha2, 16))[2:]\n",
        "  if bin_sha2.startswith('00000000000000'):\n",
        "    print(f'\"homework{n}\" Hash: {bin_sha2}')\n",
        "    collision += 1\n",
        "\n",
        "graph.append(\"%s\"%(time.time()-start_time))"
      ],
      "metadata": {
        "colab": {
          "base_uri": "https://localhost:8080/"
        },
        "id": "ZXmXdm0lJjjE",
        "outputId": "192540cd-a5ec-48ff-92a5-4ead7b7a5d88"
      },
      "execution_count": null,
      "outputs": [
        {
          "output_type": "stream",
          "name": "stdout",
          "text": [
            "\"homework21068\" Hash: 00000000000000110011111000111101001000100101011011000100001000001010101011010010110111001101100000010111011101110101000111011111001010101011010111011001010000100110000000110110011111010100010110011111001000100010010010110100101000101010101001000100110011\n",
            "\"homework22627\" Hash: 00000000000000111111000100110111010101101000011100011100000100110101000000011000000111101011000000001111000101111100111110101011110100111001110011111001101011010110101111001101110011110110010000001101010111110001100000000001000001000110111010000111101000\n",
            "Execution time: 0.08710956573486328 seconds\n"
          ]
        }
      ]
    },
    {
      "cell_type": "code",
      "source": [
        "import hashlib\n",
        "import time\n",
        "\n",
        "collision = 0\n",
        "start_time = time.time()\n",
        "\n",
        "for n in range(200000):\n",
        "  if collision == 2:\n",
        "    print(\"Execution time: %s seconds\"%(time.time()-start_time))\n",
        "    break;\n",
        "  string = f'homework{n}'.encode()\n",
        "  sha1 = hashlib.sha256(string).hexdigest()\n",
        "  sha2 = hashlib.sha256(sha1.encode()).hexdigest()\n",
        "  bin_sha2 = \"{0:256b}\".format(int(sha2, 16))[2:]\n",
        "  if bin_sha2.startswith('000000000000000'):\n",
        "    print(f'\"homework{n}\" Hash: {bin_sha2}')\n",
        "    collision += 1\n",
        "\n",
        "graph.append(\"%s\"%(time.time()-start_time))"
      ],
      "metadata": {
        "colab": {
          "base_uri": "https://localhost:8080/"
        },
        "id": "HTHH7ICaJsCw",
        "outputId": "4ea4eb03-2fc8-4b56-c26d-9925b4ea75ff"
      },
      "execution_count": null,
      "outputs": [
        {
          "output_type": "stream",
          "name": "stdout",
          "text": [
            "\"homework129972\" Hash: 00000000000000010001100010110000110101001100101110111001011010011011101001101111011101011111111101010100110000101001100011110000000110110110010001001110001111010000101111100100101011101100011000101111110001000110011010101000000010010101001000110101100001\n",
            "\"homework153988\" Hash: 00000000000000011010111001111101001000110011100101100101000010000010011101100010110001000101110111110111110101111111001010110000100101010011001010000101010101111001001100111101011110011111100001000101110101101000010001011101110000101100111111001001110000\n",
            "Execution time: 0.5967884063720703 seconds\n"
          ]
        }
      ]
    },
    {
      "cell_type": "code",
      "source": [
        "import hashlib\n",
        "import time\n",
        "\n",
        "collision = 0\n",
        "start_time = time.time()\n",
        "\n",
        "for n in range(700000):\n",
        "  if collision == 2:\n",
        "    print(\"Execution time: %s seconds\"%(time.time()-start_time))\n",
        "    break;\n",
        "  string = f'homework{n}'.encode()\n",
        "  sha1 = hashlib.sha256(string).hexdigest()\n",
        "  sha2 = hashlib.sha256(sha1.encode()).hexdigest()\n",
        "  bin_sha2 = \"{0:256b}\".format(int(sha2, 16))[2:]\n",
        "  if bin_sha2.startswith('0000000000000000'):\n",
        "    print(f'\"homework{n}\" Hash: {bin_sha2}')\n",
        "    collision += 1\n",
        "\n",
        "graph.append(\"%s\"%(time.time()-start_time))"
      ],
      "metadata": {
        "colab": {
          "base_uri": "https://localhost:8080/"
        },
        "id": "tZchLfk3KNC9",
        "outputId": "b8060d54-5036-40d9-e427-861d9292670e"
      },
      "execution_count": null,
      "outputs": [
        {
          "output_type": "stream",
          "name": "stdout",
          "text": [
            "\"homework206946\" Hash: 00000000000000001100001101010011010010011000000110010011111010000000100010000001111101001001110111111011101010110101001101110101100100010101100101010100101101110110010111001101001001110110000110100011001001100101110101000011101100010100101111011000001101\n",
            "\"homework683734\" Hash: 00000000000000001100110101101110011001010100000001110111111011010001000110010100101110110010000101011101101000100111010101010000111000111101110001100111001001100001001000010000000110000100001001111110000001011101011010111110111011000101011001000111010011\n",
            "Execution time: 3.8231256008148193 seconds\n"
          ]
        }
      ]
    },
    {
      "cell_type": "code",
      "source": [
        "import hashlib\n",
        "import time\n",
        "\n",
        "collision = 0\n",
        "start_time = time.time()\n",
        "\n",
        "for n in range(2000000):\n",
        "  if collision == 2:\n",
        "    print(\"Execution time: %s seconds\"%(time.time()-start_time))\n",
        "    break;\n",
        "  string = f'homework{n}'.encode()\n",
        "  sha1 = hashlib.sha256(string).hexdigest()\n",
        "  sha2 = hashlib.sha256(sha1.encode()).hexdigest()\n",
        "  bin_sha2 = \"{0:256b}\".format(int(sha2, 16))[2:]\n",
        "  if bin_sha2.startswith('00000000000000000'):\n",
        "    print(f'\"homework{n}\" Hash: {bin_sha2}')\n",
        "    collision += 1\n",
        "\n",
        "graph.append(\"%s\"%(time.time()-start_time))"
      ],
      "metadata": {
        "colab": {
          "base_uri": "https://localhost:8080/"
        },
        "id": "BvoBZyDnMLAj",
        "outputId": "7ae8b7a4-b6bf-4e22-8352-66b2a61ca372"
      },
      "execution_count": null,
      "outputs": [
        {
          "output_type": "stream",
          "name": "stdout",
          "text": [
            "\"homework1257953\" Hash: 00000000000000000000101110100001101011010000001001001010100111000101111010100110101010101001110111110110111100001110110111111010110100000011100101101011111100000101001001011111010000101001000110011110100001001010101011110000011001101000111001011000111100\n",
            "\"homework1409761\" Hash: 00000000000000000001110111100000000011011101010111110010010101100010110111100101110110110101111011001001111100100001011000001001110010001110010010010001001010101010000100000011010001001001101111101101110110010100011011110011011001011111000110100011001011\n",
            "Execution time: 6.733810186386108 seconds\n"
          ]
        }
      ]
    },
    {
      "cell_type": "code",
      "source": [
        "import hashlib\n",
        "import time\n",
        "\n",
        "collision = 0\n",
        "start_time = time.time()\n",
        "\n",
        "for n in range(2000000):\n",
        "  if collision == 2:\n",
        "    print(\"Execution time: %s seconds\"%(time.time()-start_time))\n",
        "    break;\n",
        "  string = f'homework{n}'.encode()\n",
        "  sha1 = hashlib.sha256(string).hexdigest()\n",
        "  sha2 = hashlib.sha256(sha1.encode()).hexdigest()\n",
        "  bin_sha2 = \"{0:256b}\".format(int(sha2, 16))[2:]\n",
        "  if bin_sha2.startswith('000000000000000000'):\n",
        "    print(f'\"homework{n}\" Hash: {bin_sha2}')\n",
        "    collision += 1\n",
        "\n",
        "graph.append(\"%s\"%(time.time()-start_time))"
      ],
      "metadata": {
        "colab": {
          "base_uri": "https://localhost:8080/"
        },
        "id": "oj-YlkyDKljD",
        "outputId": "1d31a658-9c59-4b21-ab44-e60e077e6ed4"
      },
      "execution_count": null,
      "outputs": [
        {
          "output_type": "stream",
          "name": "stdout",
          "text": [
            "\"homework1257953\" Hash: 00000000000000000000101110100001101011010000001001001010100111000101111010100110101010101001110111110110111100001110110111111010110100000011100101101011111100000101001001011111010000101001000110011110100001001010101011110000011001101000111001011000111100\n",
            "\"homework1409761\" Hash: 00000000000000000001110111100000000011011101010111110010010101100010110111100101110110110101111011001001111100100001011000001001110010001110010010010001001010101010000100000011010001001001101111101101110110010100011011110011011001011111000110100011001011\n",
            "Execution time: 5.232881307601929 seconds\n"
          ]
        }
      ]
    },
    {
      "cell_type": "code",
      "source": [
        "import hashlib\n",
        "import time\n",
        "\n",
        "collision = 0\n",
        "start_time = time.time()\n",
        "\n",
        "for n in range(2000000):\n",
        "  if collision == 2:\n",
        "    print(\"Execution time: %s seconds\"%(time.time()-start_time))\n",
        "    break;\n",
        "  string = f'homework{n}'.encode()\n",
        "  sha1 = hashlib.sha256(string).hexdigest()\n",
        "  sha2 = hashlib.sha256(sha1.encode()).hexdigest()\n",
        "  bin_sha2 = \"{0:256b}\".format(int(sha2, 16))[2:]\n",
        "  if bin_sha2.startswith('0000000000000000000'):\n",
        "    print(f'\"homework{n}\" Hash: {bin_sha2}')\n",
        "    collision += 1\n",
        "\n",
        "graph.append(\"%s\"%(time.time()-start_time))"
      ],
      "metadata": {
        "colab": {
          "base_uri": "https://localhost:8080/"
        },
        "id": "ZzwrZUnPLHMI",
        "outputId": "49b0de33-2746-4102-a9f6-dce522f90f03"
      },
      "execution_count": null,
      "outputs": [
        {
          "output_type": "stream",
          "name": "stdout",
          "text": [
            "\"homework1257953\" Hash: 00000000000000000000101110100001101011010000001001001010100111000101111010100110101010101001110111110110111100001110110111111010110100000011100101101011111100000101001001011111010000101001000110011110100001001010101011110000011001101000111001011000111100\n",
            "\"homework1409761\" Hash: 00000000000000000001110111100000000011011101010111110010010101100010110111100101110110110101111011001001111100100001011000001001110010001110010010010001001010101010000100000011010001001001101111101101110110010100011011110011011001011111000110100011001011\n",
            "Execution time: 5.225293159484863 seconds\n"
          ]
        }
      ]
    },
    {
      "cell_type": "code",
      "source": [
        "import hashlib\n",
        "import time\n",
        "\n",
        "collision = 0\n",
        "start_time = time.time()\n",
        "\n",
        "for n in range(3000000):\n",
        "  if collision == 2:\n",
        "    print(\"Execution time: %s seconds\"%(time.time()-start_time))\n",
        "    break;\n",
        "  string = f'homework{n}'.encode()\n",
        "  sha1 = hashlib.sha256(string).hexdigest()\n",
        "  sha2 = hashlib.sha256(sha1.encode()).hexdigest()\n",
        "  bin_sha2 = \"{0:256b}\".format(int(sha2, 16))[2:]\n",
        "  if bin_sha2.startswith('00000000000000000000'):\n",
        "    print(f'\"homework{n}\" Hash: {bin_sha2}')\n",
        "    collision += 1\n",
        "\n",
        "graph.append(\"%s\"%(time.time()-start_time))"
      ],
      "metadata": {
        "colab": {
          "base_uri": "https://localhost:8080/"
        },
        "id": "grZMWYb-LagA",
        "outputId": "08ecc094-cdbe-499d-ab65-589e4da84d75"
      },
      "execution_count": null,
      "outputs": [
        {
          "output_type": "stream",
          "name": "stdout",
          "text": [
            "\"homework1257953\" Hash: 00000000000000000000101110100001101011010000001001001010100111000101111010100110101010101001110111110110111100001110110111111010110100000011100101101011111100000101001001011111010000101001000110011110100001001010101011110000011001101000111001011000111100\n",
            "\"homework2014569\" Hash: 00000000000000000000111111001101101101011000110010011110111100111011100000010001100110001101110001000001001010000100100010110000100111111101000001110000000111011111000010101000000101101101100000000001111001101100000011001010110011001011100110000111101010\n",
            "Execution time: 8.880892276763916 seconds\n"
          ]
        }
      ]
    },
    {
      "cell_type": "code",
      "source": [
        "print(graph)"
      ],
      "metadata": {
        "colab": {
          "base_uri": "https://localhost:8080/"
        },
        "id": "qT8yqnm0OHt2",
        "outputId": "585029b0-ae4d-4b20-a918-6bcd0a539f33"
      },
      "execution_count": null,
      "outputs": [
        {
          "output_type": "stream",
          "name": "stdout",
          "text": [
            "['0.0059473514556884766', '0.001809835433959961', '0.006447315216064453', '0.005902290344238281', '0.003423929214477539', '0.003271818161010742', '0.009525775909423828', '0.0052530765533447266', '0.0060770511627197266', '0.028697729110717773', '0.030992746353149414', '0.09103798866271973', '0.18251895904541016', '0.08731484413146973', '0.597501277923584', '3.8236734867095947', '6.734060049057007', '5.233534336090088', '5.2255918979644775', '8.881137609481812']\n"
          ]
        }
      ]
    }
  ]
}